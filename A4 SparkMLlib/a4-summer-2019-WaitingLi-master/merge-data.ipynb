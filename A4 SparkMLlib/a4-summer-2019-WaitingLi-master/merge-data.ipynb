{
 "cells": [
  {
   "cell_type": "markdown",
   "metadata": {},
   "source": [
    "# Create Merged Dataset\n",
    "\n",
    "In this workbook, you will read in the `trip` and `fare` files. You are welcome to use DataFrame and/or SparkSQL API as you desire as long as it produces the expected results.\n",
    "\n",
    "## Instructions:\n",
    "\n",
    "1. Join both datasets such that you get a merged dataset with 21 unique fields. You need to determine how to join the dataset.\n",
    "2. Once you create the merged dataset, you need to convert fields to the following types, since all fields were read is as string:\n",
    "    * pickup_datetime and dropoff_datetime must be TIMESTAMP\n",
    "    * passenger_count and rate_code must be INT\n",
    "    * all other numeric fields must be FLOAT\n",
    "    * the remaining fields stay as STRING\n",
    "3. Save your merged and converted dataset to your own S3 bucket in parquet format.\n",
    "\n",
    "You are welcome to add as many cells as you need below up until the next section. **You must include comments in your code.**"
   ]
  },
  {
   "cell_type": "markdown",
   "metadata": {},
   "source": [
    "## Start Pyspark"
   ]
  },
  {
   "cell_type": "code",
   "execution_count": 1,
   "metadata": {},
   "outputs": [],
   "source": [
    "import findspark\n",
    "findspark.init()\n",
    "from pyspark.sql import SparkSession\n",
    "spark = SparkSession.builder.appName(\"assign-4-merge\").getOrCreate()"
   ]
  },
  {
   "cell_type": "code",
   "execution_count": 2,
   "metadata": {},
   "outputs": [
    {
     "data": {
      "text/html": [
       "\n",
       "            <div>\n",
       "                <p><b>SparkSession - in-memory</b></p>\n",
       "                \n",
       "        <div>\n",
       "            <p><b>SparkContext</b></p>\n",
       "\n",
       "            <p><a href=\"http://ip-172-31-58-208.ec2.internal:4040\">Spark UI</a></p>\n",
       "\n",
       "            <dl>\n",
       "              <dt>Version</dt>\n",
       "                <dd><code>v2.4.2</code></dd>\n",
       "              <dt>Master</dt>\n",
       "                <dd><code>yarn</code></dd>\n",
       "              <dt>AppName</dt>\n",
       "                <dd><code>assign-4-merge</code></dd>\n",
       "            </dl>\n",
       "        </div>\n",
       "        \n",
       "            </div>\n",
       "        "
      ],
      "text/plain": [
       "<pyspark.sql.session.SparkSession at 0x7f8c83228588>"
      ]
     },
     "execution_count": 2,
     "metadata": {},
     "output_type": "execute_result"
    }
   ],
   "source": [
    "spark"
   ]
  },
  {
   "cell_type": "markdown",
   "metadata": {},
   "source": [
    "## Load Data"
   ]
  },
  {
   "cell_type": "code",
   "execution_count": 3,
   "metadata": {},
   "outputs": [],
   "source": [
    "trip = spark.read.parquet(\"s3://bigdatateaching/nyctaxi-2013/parquet/trip/\")"
   ]
  },
  {
   "cell_type": "code",
   "execution_count": 4,
   "metadata": {},
   "outputs": [],
   "source": [
    "fare = spark.read.parquet('s3://bigdatateaching/nyctaxi-2013/parquet/fare/')"
   ]
  },
  {
   "cell_type": "markdown",
   "metadata": {},
   "source": [
    "## Explore Data"
   ]
  },
  {
   "cell_type": "code",
   "execution_count": 5,
   "metadata": {},
   "outputs": [
    {
     "name": "stdout",
     "output_type": "stream",
     "text": [
      "root\n",
      " |-- medallion: string (nullable = true)\n",
      " |-- hack_license: string (nullable = true)\n",
      " |-- vendor_id: string (nullable = true)\n",
      " |-- rate_code: string (nullable = true)\n",
      " |-- store_and_fwd_flag: string (nullable = true)\n",
      " |-- pickup_datetime: string (nullable = true)\n",
      " |-- dropoff_datetime: string (nullable = true)\n",
      " |-- passenger_count: string (nullable = true)\n",
      " |-- trip_time_in_secs: string (nullable = true)\n",
      " |-- trip_distance: string (nullable = true)\n",
      " |-- pickup_longitude: string (nullable = true)\n",
      " |-- pickup_latitude: string (nullable = true)\n",
      " |-- dropoff_longitude: string (nullable = true)\n",
      " |-- dropoff_latitude: string (nullable = true)\n",
      "\n"
     ]
    }
   ],
   "source": [
    "trip.printSchema()"
   ]
  },
  {
   "cell_type": "code",
   "execution_count": 6,
   "metadata": {},
   "outputs": [
    {
     "name": "stdout",
     "output_type": "stream",
     "text": [
      "root\n",
      " |-- medallion: string (nullable = true)\n",
      " |-- hack_license: string (nullable = true)\n",
      " |-- vendor_id: string (nullable = true)\n",
      " |-- pickup_datetime: string (nullable = true)\n",
      " |-- payment_type: string (nullable = true)\n",
      " |-- fare_amount: string (nullable = true)\n",
      " |-- surcharge: string (nullable = true)\n",
      " |-- mta_tax: string (nullable = true)\n",
      " |-- tip_amount: string (nullable = true)\n",
      " |-- tolls_amount: string (nullable = true)\n",
      " |-- total_amount: string (nullable = true)\n",
      "\n"
     ]
    }
   ],
   "source": [
    "fare.printSchema()"
   ]
  },
  {
   "cell_type": "code",
   "execution_count": 7,
   "metadata": {},
   "outputs": [
    {
     "name": "stdout",
     "output_type": "stream",
     "text": [
      "rows of trip: 173179759\n",
      "rows of fare: 173179759\n"
     ]
    }
   ],
   "source": [
    "print('rows of trip:',trip.count())\n",
    "print('rows of fare:',fare.count())"
   ]
  },
  {
   "cell_type": "code",
   "execution_count": 8,
   "metadata": {},
   "outputs": [
    {
     "data": {
      "text/plain": [
       "[Row(medallion='28EEFA38E24E9907C4667104BAAE17A2', hack_license='D27C32507727BFF647AF9272F7E3C651', vendor_id='CMT', rate_code='5', store_and_fwd_flag='N', pickup_datetime='2013-01-01 04:30:40', dropoff_datetime='2013-01-01 04:47:35', passenger_count='2', trip_time_in_secs='1014', trip_distance='7.10', pickup_longitude='-73.982719', pickup_latitude='40.767578', dropoff_longitude='-73.870903', dropoff_latitude='40.773895'),\n",
       " Row(medallion='36DD68427CE8A2F50FDAB5F22E6B6D73', hack_license='D09C75239B2C08468A14E68F6044C20B', vendor_id='CMT', rate_code='1', store_and_fwd_flag='N', pickup_datetime='2013-01-01 03:00:36', dropoff_datetime='2013-01-01 03:13:59', passenger_count='2', trip_time_in_secs='803', trip_distance='4.40', pickup_longitude='-74.009613', pickup_latitude='40.705166', dropoff_longitude='-73.981079', dropoff_latitude='40.741474')]"
      ]
     },
     "execution_count": 8,
     "metadata": {},
     "output_type": "execute_result"
    }
   ],
   "source": [
    "trip.take(2)"
   ]
  },
  {
   "cell_type": "code",
   "execution_count": 9,
   "metadata": {},
   "outputs": [
    {
     "data": {
      "text/plain": [
       "[Row(medallion='89D227B655E5C82AECF13C3F540D4CF4', hack_license='BA96DE419E711691B9445D6A6307C170', vendor_id='CMT', pickup_datetime='2013-01-01 15:11:48', payment_type='CSH', fare_amount='6.5', surcharge='0', mta_tax='0.5', tip_amount='0', tolls_amount='0', total_amount='7'),\n",
       " Row(medallion='0BD7C8F5BA12B88E0B67BED28BEA73D8', hack_license='9FD8F69F0804BDB5549F40E9DA1BE472', vendor_id='CMT', pickup_datetime='2013-01-06 00:18:35', payment_type='CSH', fare_amount='6', surcharge='0.5', mta_tax='0.5', tip_amount='0', tolls_amount='0', total_amount='7')]"
      ]
     },
     "execution_count": 9,
     "metadata": {},
     "output_type": "execute_result"
    }
   ],
   "source": [
    "fare.take(2)"
   ]
  },
  {
   "cell_type": "markdown",
   "metadata": {},
   "source": [
    "## Drop Duplicates"
   ]
  },
  {
   "cell_type": "markdown",
   "metadata": {},
   "source": [
    "Because there's some record that can't be correctly joined together. We need to drop them. <br/>\n",
    "--- actually still keep some wrong record here because drop_dupicates will keep the first row."
   ]
  },
  {
   "cell_type": "code",
   "execution_count": 10,
   "metadata": {},
   "outputs": [],
   "source": [
    "fare = fare.drop_duplicates(subset=['medallion','hack_license','vendor_id','pickup_datetime'])\n",
    "trip = trip.drop_duplicates(subset=['medallion','hack_license','vendor_id','pickup_datetime'])"
   ]
  },
  {
   "cell_type": "code",
   "execution_count": 11,
   "metadata": {},
   "outputs": [
    {
     "name": "stdout",
     "output_type": "stream",
     "text": [
      "rows of trip: 173177113\n",
      "rows of fare: 173177113\n"
     ]
    }
   ],
   "source": [
    "print('rows of trip:',trip.count())\n",
    "print('rows of fare:',fare.count())"
   ]
  },
  {
   "cell_type": "markdown",
   "metadata": {},
   "source": [
    "## Merge Data & Check"
   ]
  },
  {
   "cell_type": "code",
   "execution_count": 12,
   "metadata": {},
   "outputs": [],
   "source": [
    "# join the table on 'medallion','hack_license','vendor_id','pickup_datetime' so that each record would match exactly\n",
    "joined_table = trip.join(fare,on = ['medallion','hack_license','vendor_id','pickup_datetime'])"
   ]
  },
  {
   "cell_type": "code",
   "execution_count": 13,
   "metadata": {},
   "outputs": [
    {
     "name": "stdout",
     "output_type": "stream",
     "text": [
      "rows of joined_table: 173177113\n"
     ]
    }
   ],
   "source": [
    "print('rows of joined_table:',joined_table.count())"
   ]
  },
  {
   "cell_type": "code",
   "execution_count": 15,
   "metadata": {},
   "outputs": [
    {
     "data": {
      "text/plain": [
       "21"
      ]
     },
     "execution_count": 15,
     "metadata": {},
     "output_type": "execute_result"
    }
   ],
   "source": [
    "joined_table.columns.__len__()"
   ]
  },
  {
   "cell_type": "markdown",
   "metadata": {},
   "source": [
    "## Convert Fields to Corresponding Types"
   ]
  },
  {
   "cell_type": "code",
   "execution_count": 16,
   "metadata": {},
   "outputs": [],
   "source": [
    "from pyspark.sql.types import *"
   ]
  },
  {
   "cell_type": "code",
   "execution_count": 17,
   "metadata": {},
   "outputs": [],
   "source": [
    "# 'pickup_datetime' and 'dropoff_datetime' --> Timestamp\n",
    "joined_table = joined_table.withColumn('pickup_datetime', joined_table['pickup_datetime'].cast(TimestampType()))\n",
    "joined_table = joined_table.withColumn('dropoff_datetime', joined_table['dropoff_datetime'].cast(TimestampType()))"
   ]
  },
  {
   "cell_type": "code",
   "execution_count": 18,
   "metadata": {},
   "outputs": [],
   "source": [
    "# 'passenger_count' and 'rate_code' --> Int\n",
    "joined_table = joined_table.withColumn(\"passenger_count\", joined_table[\"passenger_count\"].cast(IntegerType()))\n",
    "joined_table = joined_table.withColumn(\"rate_code\", joined_table[\"rate_code\"].cast(IntegerType()))"
   ]
  },
  {
   "cell_type": "code",
   "execution_count": 19,
   "metadata": {},
   "outputs": [],
   "source": [
    "# other numeric fields --> Float\n",
    "joined_table = joined_table.withColumn(\"trip_time_in_secs\", joined_table[\"trip_time_in_secs\"].cast(FloatType()))\n",
    "joined_table = joined_table.withColumn(\"trip_distance\", joined_table[\"trip_distance\"].cast(FloatType()))\n",
    "joined_table = joined_table.withColumn(\"pickup_longitude\", joined_table[\"pickup_longitude\"].cast(FloatType()))\n",
    "joined_table = joined_table.withColumn(\"pickup_latitude\", joined_table[\"pickup_latitude\"].cast(FloatType()))\n",
    "joined_table = joined_table.withColumn(\"dropoff_longitude\", joined_table[\"dropoff_longitude\"].cast(FloatType()))\n",
    "joined_table = joined_table.withColumn(\"dropoff_latitude\", joined_table[\"dropoff_latitude\"].cast(FloatType()))\n",
    "joined_table = joined_table.withColumn(\"fare_amount\", joined_table[\"fare_amount\"].cast(FloatType()))\n",
    "joined_table = joined_table.withColumn(\"surcharge\", joined_table[\"surcharge\"].cast(FloatType()))\n",
    "joined_table = joined_table.withColumn(\"mta_tax\", joined_table[\"mta_tax\"].cast(FloatType()))\n",
    "joined_table = joined_table.withColumn(\"tip_amount\", joined_table[\"tip_amount\"].cast(FloatType()))\n",
    "joined_table = joined_table.withColumn(\"tolls_amount\", joined_table[\"tolls_amount\"].cast(FloatType()))\n",
    "joined_table = joined_table.withColumn(\"total_amount\", joined_table[\"total_amount\"].cast(FloatType()))"
   ]
  },
  {
   "cell_type": "code",
   "execution_count": 20,
   "metadata": {},
   "outputs": [
    {
     "name": "stdout",
     "output_type": "stream",
     "text": [
      "root\n",
      " |-- medallion: string (nullable = true)\n",
      " |-- hack_license: string (nullable = true)\n",
      " |-- vendor_id: string (nullable = true)\n",
      " |-- pickup_datetime: timestamp (nullable = true)\n",
      " |-- rate_code: integer (nullable = true)\n",
      " |-- store_and_fwd_flag: string (nullable = true)\n",
      " |-- dropoff_datetime: timestamp (nullable = true)\n",
      " |-- passenger_count: integer (nullable = true)\n",
      " |-- trip_time_in_secs: float (nullable = true)\n",
      " |-- trip_distance: float (nullable = true)\n",
      " |-- pickup_longitude: float (nullable = true)\n",
      " |-- pickup_latitude: float (nullable = true)\n",
      " |-- dropoff_longitude: float (nullable = true)\n",
      " |-- dropoff_latitude: float (nullable = true)\n",
      " |-- payment_type: string (nullable = true)\n",
      " |-- fare_amount: float (nullable = true)\n",
      " |-- surcharge: float (nullable = true)\n",
      " |-- mta_tax: float (nullable = true)\n",
      " |-- tip_amount: float (nullable = true)\n",
      " |-- tolls_amount: float (nullable = true)\n",
      " |-- total_amount: float (nullable = true)\n",
      "\n"
     ]
    }
   ],
   "source": [
    "joined_table.printSchema()"
   ]
  },
  {
   "cell_type": "markdown",
   "metadata": {},
   "source": [
    "## In the following cells, please provide the requested code and output. Do not change the order and/or structure of the cells."
   ]
  },
  {
   "cell_type": "markdown",
   "metadata": {},
   "source": [
    "In the next cell, provide the code that saves your merged dataset to your S3 bucket."
   ]
  },
  {
   "cell_type": "code",
   "execution_count": 21,
   "metadata": {},
   "outputs": [],
   "source": [
    "joined_table.write.parquet('s3://weiteng-li/merged_data/')"
   ]
  },
  {
   "cell_type": "markdown",
   "metadata": {},
   "source": [
    "In the next cell, print the schema of your merged dataset."
   ]
  },
  {
   "cell_type": "code",
   "execution_count": 22,
   "metadata": {},
   "outputs": [
    {
     "name": "stdout",
     "output_type": "stream",
     "text": [
      "root\n",
      " |-- medallion: string (nullable = true)\n",
      " |-- hack_license: string (nullable = true)\n",
      " |-- vendor_id: string (nullable = true)\n",
      " |-- pickup_datetime: timestamp (nullable = true)\n",
      " |-- rate_code: integer (nullable = true)\n",
      " |-- store_and_fwd_flag: string (nullable = true)\n",
      " |-- dropoff_datetime: timestamp (nullable = true)\n",
      " |-- passenger_count: integer (nullable = true)\n",
      " |-- trip_time_in_secs: float (nullable = true)\n",
      " |-- trip_distance: float (nullable = true)\n",
      " |-- pickup_longitude: float (nullable = true)\n",
      " |-- pickup_latitude: float (nullable = true)\n",
      " |-- dropoff_longitude: float (nullable = true)\n",
      " |-- dropoff_latitude: float (nullable = true)\n",
      " |-- payment_type: string (nullable = true)\n",
      " |-- fare_amount: float (nullable = true)\n",
      " |-- surcharge: float (nullable = true)\n",
      " |-- mta_tax: float (nullable = true)\n",
      " |-- tip_amount: float (nullable = true)\n",
      " |-- tolls_amount: float (nullable = true)\n",
      " |-- total_amount: float (nullable = true)\n",
      "\n"
     ]
    }
   ],
   "source": [
    "joined_table.printSchema()"
   ]
  },
  {
   "cell_type": "markdown",
   "metadata": {},
   "source": [
    "In the next cell, print the first 10 records of your merged dataset."
   ]
  },
  {
   "cell_type": "code",
   "execution_count": 23,
   "metadata": {},
   "outputs": [
    {
     "name": "stdout",
     "output_type": "stream",
     "text": [
      "+--------------------+--------------------+---------+-------------------+---------+------------------+-------------------+---------------+-----------------+-------------+----------------+---------------+-----------------+----------------+------------+-----------+---------+-------+----------+------------+------------+\n",
      "|           medallion|        hack_license|vendor_id|    pickup_datetime|rate_code|store_and_fwd_flag|   dropoff_datetime|passenger_count|trip_time_in_secs|trip_distance|pickup_longitude|pickup_latitude|dropoff_longitude|dropoff_latitude|payment_type|fare_amount|surcharge|mta_tax|tip_amount|tolls_amount|total_amount|\n",
      "+--------------------+--------------------+---------+-------------------+---------+------------------+-------------------+---------------+-----------------+-------------+----------------+---------------+-----------------+----------------+------------+-----------+---------+-------+----------+------------+------------+\n",
      "|00005007A9F30E289...|02015F5B7D1884620...|      CMT|2013-05-20 02:15:05|        1|                 N|2013-05-20 02:28:51|              2|            827.0|          5.3|        -74.0084|      40.740517|       -73.965195|       40.801292|         CRD|       17.5|      0.5|    0.5|       3.7|         0.0|        22.2|\n",
      "|00005007A9F30E289...|0649DA10C83DE7C6A...|      CMT|2013-05-14 20:28:38|        1|                 N|2013-05-14 20:37:35|              1|            536.0|          1.7|        -73.9793|       40.73579|        -74.00354|       40.740307|         CRD|        8.5|      0.5|    0.5|       1.9|         0.0|        11.4|\n",
      "|00005007A9F30E289...|0FD461760B482C0B2...|      CMT|2013-11-18 01:41:18|        1|                 N|2013-11-18 01:53:22|              1|            723.0|          3.2|      -73.987175|      40.722256|        -73.94967|        40.71564|         CSH|       12.0|      0.5|    0.5|       0.0|         0.0|        13.0|\n",
      "|00005007A9F30E289...|132A7AC13C8471488...|      CMT|2013-07-30 19:17:33|        1|                 N|2013-07-30 19:25:54|              1|            501.0|          1.1|      -73.980736|      40.753197|       -73.971275|       40.764122|         CRD|        7.0|      1.0|    0.5|       1.5|         0.0|        10.0|\n",
      "|00005007A9F30E289...|18F924B3A1BC019F9...|      CMT|2013-07-10 01:09:09|        1|                 Y|2013-07-10 01:13:50|              2|            281.0|          0.8|        -74.0061|       40.73466|        -74.00618|        40.74375|         CRD|        5.0|      0.5|    0.5|       1.0|         0.0|         7.0|\n",
      "|00005007A9F30E289...|1C533BFDA3D6D892F...|      CMT|2013-05-07 15:23:15|        1|                 N|2013-05-07 15:37:46|              1|            870.0|          1.5|      -73.986496|       40.73341|       -73.984604|       40.750008|         CRD|       10.5|      0.0|    0.5|      2.75|         0.0|       13.75|\n",
      "|00005007A9F30E289...|24C122A944FB8EE21...|      CMT|2013-10-05 11:40:40|        1|                 N|2013-10-05 11:57:20|              3|           1000.0|          3.7|       -73.96649|      40.789413|        -74.00306|       40.745758|         CRD|       15.0|      0.0|    0.5|      3.87|         0.0|       19.37|\n",
      "|00005007A9F30E289...|24C122A944FB8EE21...|      CMT|2013-10-11 11:18:25|        1|                 Y|2013-10-11 11:23:11|              1|            285.0|          0.9|         -73.997|       40.72245|       -73.986115|        40.72926|         CRD|        5.5|      0.0|    0.5|       1.0|         0.0|         7.0|\n",
      "|00005007A9F30E289...|24C122A944FB8EE21...|      CMT|2013-10-14 14:41:18|        1|                 N|2013-10-14 15:02:17|              1|           1259.0|          1.5|      -73.960266|       40.78176|        -73.96746|       40.763233|         CSH|       13.0|      0.0|    0.5|       0.0|         0.0|        13.5|\n",
      "|00005007A9F30E289...|24C122A944FB8EE21...|      CMT|2013-10-18 12:06:37|        1|                 N|2013-10-18 12:13:09|              2|            392.0|          1.1|       -73.96292|      40.772476|       -73.954216|       40.786285|         CRD|        6.5|      0.0|    0.5|       1.0|         0.0|         8.0|\n",
      "+--------------------+--------------------+---------+-------------------+---------+------------------+-------------------+---------------+-----------------+-------------+----------------+---------------+-----------------+----------------+------------+-----------+---------+-------+----------+------------+------------+\n",
      "only showing top 10 rows\n",
      "\n"
     ]
    }
   ],
   "source": [
    "joined_table.show(10)"
   ]
  },
  {
   "cell_type": "markdown",
   "metadata": {},
   "source": [
    "In the next cell, print the row count of your merged dataset."
   ]
  },
  {
   "cell_type": "code",
   "execution_count": 24,
   "metadata": {},
   "outputs": [
    {
     "data": {
      "text/plain": [
       "173177113"
      ]
     },
     "execution_count": 24,
     "metadata": {},
     "output_type": "execute_result"
    }
   ],
   "source": [
    "joined_table.count()"
   ]
  },
  {
   "cell_type": "code",
   "execution_count": 25,
   "metadata": {},
   "outputs": [],
   "source": [
    "spark.stop()"
   ]
  }
 ],
 "metadata": {
  "anaconda-cloud": {},
  "celltoolbar": "Raw Cell Format",
  "kernelspec": {
   "display_name": "Python 3",
   "language": "python",
   "name": "python3"
  },
  "language_info": {
   "codemirror_mode": {
    "name": "ipython",
    "version": 3
   },
   "file_extension": ".py",
   "mimetype": "text/x-python",
   "name": "python",
   "nbconvert_exporter": "python",
   "pygments_lexer": "ipython3",
   "version": "3.6.8"
  }
 },
 "nbformat": 4,
 "nbformat_minor": 2
}
